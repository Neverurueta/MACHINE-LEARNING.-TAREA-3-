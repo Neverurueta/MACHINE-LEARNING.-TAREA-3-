{
  "nbformat": 4,
  "nbformat_minor": 0,
  "metadata": {
    "colab": {
      "name": "Tarea 3. Randonm Fore.ipynb",
      "provenance": []
    },
    "kernelspec": {
      "name": "python3",
      "display_name": "Python 3"
    },
    "language_info": {
      "name": "python"
    }
  },
  "cells": [
    {
      "cell_type": "code",
      "execution_count": 1,
      "metadata": {
        "id": "K8jSxA_kWtv3"
      },
      "outputs": [],
      "source": [
        "import numpy as np\n",
        "import pandas as pd\n",
        "import matplotlib.pyplot as plt\n",
        "import sklearn"
      ]
    },
    {
      "cell_type": "code",
      "source": [
        "from google.colab import files \n",
        "uploaded= files.upload () "
      ],
      "metadata": {
        "colab": {
          "resources": {
            "http://localhost:8080/nbextensions/google.colab/files.js": {
              "data": "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",
              "ok": true,
              "headers": [
                [
                  "content-type",
                  "application/javascript"
                ]
              ],
              "status": 200,
              "status_text": ""
            }
          },
          "base_uri": "https://localhost:8080/",
          "height": 74
        },
        "id": "TrpgHk0dgtX1",
        "outputId": "a59023d8-0fdc-44fa-a69d-310463629c68"
      },
      "execution_count": 2,
      "outputs": [
        {
          "output_type": "display_data",
          "data": {
            "text/plain": [
              "<IPython.core.display.HTML object>"
            ],
            "text/html": [
              "\n",
              "     <input type=\"file\" id=\"files-81823cea-f49d-4ac5-8421-2084a603b3fd\" name=\"files[]\" multiple disabled\n",
              "        style=\"border:none\" />\n",
              "     <output id=\"result-81823cea-f49d-4ac5-8421-2084a603b3fd\">\n",
              "      Upload widget is only available when the cell has been executed in the\n",
              "      current browser session. Please rerun this cell to enable.\n",
              "      </output>\n",
              "      <script src=\"/nbextensions/google.colab/files.js\"></script> "
            ]
          },
          "metadata": {}
        },
        {
          "output_type": "stream",
          "name": "stdout",
          "text": [
            "Saving water_dataset.mat to water_dataset.mat\n"
          ]
        }
      ]
    },
    {
      "cell_type": "code",
      "source": [
        "import scipy.io as sio"
      ],
      "metadata": {
        "id": "epzC4yreE5BE"
      },
      "execution_count": 3,
      "outputs": []
    },
    {
      "cell_type": "code",
      "source": [
        "mat= sio.loadmat('water_dataset.mat')"
      ],
      "metadata": {
        "id": "3lWWGMgzFcZM"
      },
      "execution_count": 4,
      "outputs": []
    },
    {
      "cell_type": "code",
      "source": [
        "type(mat)"
      ],
      "metadata": {
        "colab": {
          "base_uri": "https://localhost:8080/"
        },
        "id": "Al__uMI2vtOx",
        "outputId": "033e12c8-5b92-41a7-fc40-4b4b42a612d4"
      },
      "execution_count": null,
      "outputs": [
        {
          "output_type": "execute_result",
          "data": {
            "text/plain": [
              "dict"
            ]
          },
          "metadata": {},
          "execution_count": 5
        }
      ]
    },
    {
      "cell_type": "code",
      "source": [
        "mat.keys()"
      ],
      "metadata": {
        "colab": {
          "base_uri": "https://localhost:8080/"
        },
        "id": "bji8kOQktrXq",
        "outputId": "1eb925fe-ad74-4963-c8e2-ebbd798f10c7"
      },
      "execution_count": 5,
      "outputs": [
        {
          "output_type": "execute_result",
          "data": {
            "text/plain": [
              "dict_keys(['__header__', '__version__', '__globals__', 'X_tr', 'X_te', 'Y_tr', 'Y_te', 'location_group', 'features', 'location_ids'])"
            ]
          },
          "metadata": {},
          "execution_count": 5
        }
      ]
    },
    {
      "cell_type": "markdown",
      "source": [
        "# **DATA**\n",
        "\n",
        "La base de datos a utilizar en este trabajo es proporcionada por el servicio Geológico de los Estados Unidos. Contiene información de la calidad del agua medida en 37 lugares distinto del estado de Georgia y en base al Potencial de Hidrogeno, este atributo será la variable para pronosticar en función de 9 atributos tomados de una muestra de 423 días.\n",
        "\n",
        "Para los 37 lugares se tomaros medidas diarias del volumen de oxígeno disuelto, la temperatura y la conductancia específica, del total de las mediciones por variable se sacaron diariamente los valores mínimos, promedios y máximos generando así los 9 atributos.\n",
        "\n",
        "Para la variable de respuesta (PH) de las 37 medidas se tomó como medida diariamente la mediana.\n",
        "\n",
        "Los datos estaban almacenados en un archivo .MAT,(de Matlab) que al ser extraído en python generaban un archivo de tipo DICT (Diccionario). De este se extrae para consolidar la base de datos la información de las llaves o carpetas asociadas a los datos de los atributos predictivos, los datos de la variable de respuesta y la información de las variable.\n",
        "\n",
        "\n",
        "# **MÉTODO Y RESULTADO**\n",
        "\n",
        "Las metodologías utilizadas para el tratamiento de la información obtenida y la emisión de resultados fueron las herramientas de Machine Learning con regresión lineal múltiple y Machine Learning con Random Forest. Como resultado se obtuvo un valor de RMSE de 0,0045 con la metodología de Machine Learning con regresión lineal múltiple y 0,0017 para el método con Random Forest, logrando este último establecer una mejor regresión con un ajuste del 99,08% de los datos contra un 93,60% del modelo con regresión lineal. Para mejor apreciación del ajuste ver la figura Siguiente.\n",
        "\n",
        "![Imagen 1. Comparación de Métodos de regresión Mediante Machine Learning](https://github.com/Neverurueta/MACHINE-LEARNING.-TAREA-3-/blob/main/Figura%201.png?raw=true)"
      ],
      "metadata": {
        "id": "fNaErdk5M8ZU"
      }
    },
    {
      "cell_type": "code",
      "source": [
        "names=(\"MaxCE_WSinFiltrar\",\"MaxPH_WSinFiltrar\",\"MinCE_WSinFiltrar\",\"PromCE_WSinFiltrar\",\"MinPH_WSinFiltrar\",\"MaxOD_WSinFiltrar\",\"PromOD_WSinFiltrar\",\"MinOD_WSinFiltrar\",\"PromT_WSinFiltrar\",\"MaxT_WSinFiltrar\",\"MinT_WSinFiltrar\") "
      ],
      "metadata": {
        "id": "FKRF3wiW4EwC"
      },
      "execution_count": 6,
      "outputs": []
    },
    {
      "cell_type": "code",
      "source": [
        "mat_xtr = np.transpose(mat['X_tr'][0])\n",
        "data=pd.DataFrame([x[0] for x in mat_xtr],columns=names)\n",
        "data[\"PH\"]=np.transpose(mat['Y_tr'][0])"
      ],
      "metadata": {
        "id": "CrLAGqBJv6Wq"
      },
      "execution_count": 7,
      "outputs": []
    },
    {
      "cell_type": "code",
      "source": [
        "data=data.drop(columns=[\"MaxPH_WSinFiltrar\",\"MinPH_WSinFiltrar\"])"
      ],
      "metadata": {
        "id": "0bw4nnsPOV-A"
      },
      "execution_count": 8,
      "outputs": []
    },
    {
      "cell_type": "code",
      "source": [
        "data"
      ],
      "metadata": {
        "colab": {
          "base_uri": "https://localhost:8080/",
          "height": 488
        },
        "id": "DgCkYZ_ussUz",
        "outputId": "9c409c73-cc41-45d7-abca-fdb5e81c88a0"
      },
      "execution_count": 9,
      "outputs": [
        {
          "output_type": "execute_result",
          "data": {
            "text/plain": [
              "     MaxCE_WSinFiltrar  MinCE_WSinFiltrar  PromCE_WSinFiltrar  \\\n",
              "0             0.001131           0.001120            0.001113   \n",
              "1             0.001131           0.001120            0.001113   \n",
              "2             0.001131           0.001120            0.001133   \n",
              "3             0.001131           0.001139            0.001133   \n",
              "4             0.001131           0.001139            0.001133   \n",
              "..                 ...                ...                 ...   \n",
              "418           0.002008           0.001984            0.001992   \n",
              "419           0.002047           0.002004            0.002012   \n",
              "420           0.002164           0.002024            0.002031   \n",
              "421           0.002125           0.002004            0.002031   \n",
              "422           0.002222           0.001984            0.002031   \n",
              "\n",
              "     MaxOD_WSinFiltrar  PromOD_WSinFiltrar  MinOD_WSinFiltrar  \\\n",
              "0             0.841463            0.765152           0.787402   \n",
              "1             0.841463            0.757576           0.779528   \n",
              "2             0.841463            0.765152           0.779528   \n",
              "3             0.841463            0.757576           0.779528   \n",
              "4             0.841463            0.750000           0.771654   \n",
              "..                 ...                 ...                ...   \n",
              "418           0.878049            0.712121           0.724409   \n",
              "419           0.878049            0.689394           0.708661   \n",
              "420           0.878049            0.674242           0.692913   \n",
              "421           0.878049            0.666667           0.685039   \n",
              "422           0.865854            0.659091           0.669291   \n",
              "\n",
              "     PromT_WSinFiltrar  MaxT_WSinFiltrar  MinT_WSinFiltrar        PH  \n",
              "0             0.293750          0.298077          0.276163  0.648148  \n",
              "1             0.293750          0.288462          0.287791  0.648148  \n",
              "2             0.300000          0.294872          0.293605  0.648148  \n",
              "3             0.306250          0.301282          0.296512  0.648148  \n",
              "4             0.325000          0.317308          0.325581  0.648148  \n",
              "..                 ...               ...               ...       ...  \n",
              "418           0.471875          0.464744          0.462209  0.666667  \n",
              "419           0.512500          0.506410          0.494186  0.666667  \n",
              "420           0.531250          0.532051          0.505814  0.666667  \n",
              "421           0.543750          0.544872          0.517442  0.666667  \n",
              "422           0.559375          0.564103          0.529070  0.666667  \n",
              "\n",
              "[423 rows x 10 columns]"
            ],
            "text/html": [
              "\n",
              "  <div id=\"df-8d93cb7c-a167-45e8-9350-307cb49c2cec\">\n",
              "    <div class=\"colab-df-container\">\n",
              "      <div>\n",
              "<style scoped>\n",
              "    .dataframe tbody tr th:only-of-type {\n",
              "        vertical-align: middle;\n",
              "    }\n",
              "\n",
              "    .dataframe tbody tr th {\n",
              "        vertical-align: top;\n",
              "    }\n",
              "\n",
              "    .dataframe thead th {\n",
              "        text-align: right;\n",
              "    }\n",
              "</style>\n",
              "<table border=\"1\" class=\"dataframe\">\n",
              "  <thead>\n",
              "    <tr style=\"text-align: right;\">\n",
              "      <th></th>\n",
              "      <th>MaxCE_WSinFiltrar</th>\n",
              "      <th>MinCE_WSinFiltrar</th>\n",
              "      <th>PromCE_WSinFiltrar</th>\n",
              "      <th>MaxOD_WSinFiltrar</th>\n",
              "      <th>PromOD_WSinFiltrar</th>\n",
              "      <th>MinOD_WSinFiltrar</th>\n",
              "      <th>PromT_WSinFiltrar</th>\n",
              "      <th>MaxT_WSinFiltrar</th>\n",
              "      <th>MinT_WSinFiltrar</th>\n",
              "      <th>PH</th>\n",
              "    </tr>\n",
              "  </thead>\n",
              "  <tbody>\n",
              "    <tr>\n",
              "      <th>0</th>\n",
              "      <td>0.001131</td>\n",
              "      <td>0.001120</td>\n",
              "      <td>0.001113</td>\n",
              "      <td>0.841463</td>\n",
              "      <td>0.765152</td>\n",
              "      <td>0.787402</td>\n",
              "      <td>0.293750</td>\n",
              "      <td>0.298077</td>\n",
              "      <td>0.276163</td>\n",
              "      <td>0.648148</td>\n",
              "    </tr>\n",
              "    <tr>\n",
              "      <th>1</th>\n",
              "      <td>0.001131</td>\n",
              "      <td>0.001120</td>\n",
              "      <td>0.001113</td>\n",
              "      <td>0.841463</td>\n",
              "      <td>0.757576</td>\n",
              "      <td>0.779528</td>\n",
              "      <td>0.293750</td>\n",
              "      <td>0.288462</td>\n",
              "      <td>0.287791</td>\n",
              "      <td>0.648148</td>\n",
              "    </tr>\n",
              "    <tr>\n",
              "      <th>2</th>\n",
              "      <td>0.001131</td>\n",
              "      <td>0.001120</td>\n",
              "      <td>0.001133</td>\n",
              "      <td>0.841463</td>\n",
              "      <td>0.765152</td>\n",
              "      <td>0.779528</td>\n",
              "      <td>0.300000</td>\n",
              "      <td>0.294872</td>\n",
              "      <td>0.293605</td>\n",
              "      <td>0.648148</td>\n",
              "    </tr>\n",
              "    <tr>\n",
              "      <th>3</th>\n",
              "      <td>0.001131</td>\n",
              "      <td>0.001139</td>\n",
              "      <td>0.001133</td>\n",
              "      <td>0.841463</td>\n",
              "      <td>0.757576</td>\n",
              "      <td>0.779528</td>\n",
              "      <td>0.306250</td>\n",
              "      <td>0.301282</td>\n",
              "      <td>0.296512</td>\n",
              "      <td>0.648148</td>\n",
              "    </tr>\n",
              "    <tr>\n",
              "      <th>4</th>\n",
              "      <td>0.001131</td>\n",
              "      <td>0.001139</td>\n",
              "      <td>0.001133</td>\n",
              "      <td>0.841463</td>\n",
              "      <td>0.750000</td>\n",
              "      <td>0.771654</td>\n",
              "      <td>0.325000</td>\n",
              "      <td>0.317308</td>\n",
              "      <td>0.325581</td>\n",
              "      <td>0.648148</td>\n",
              "    </tr>\n",
              "    <tr>\n",
              "      <th>...</th>\n",
              "      <td>...</td>\n",
              "      <td>...</td>\n",
              "      <td>...</td>\n",
              "      <td>...</td>\n",
              "      <td>...</td>\n",
              "      <td>...</td>\n",
              "      <td>...</td>\n",
              "      <td>...</td>\n",
              "      <td>...</td>\n",
              "      <td>...</td>\n",
              "    </tr>\n",
              "    <tr>\n",
              "      <th>418</th>\n",
              "      <td>0.002008</td>\n",
              "      <td>0.001984</td>\n",
              "      <td>0.001992</td>\n",
              "      <td>0.878049</td>\n",
              "      <td>0.712121</td>\n",
              "      <td>0.724409</td>\n",
              "      <td>0.471875</td>\n",
              "      <td>0.464744</td>\n",
              "      <td>0.462209</td>\n",
              "      <td>0.666667</td>\n",
              "    </tr>\n",
              "    <tr>\n",
              "      <th>419</th>\n",
              "      <td>0.002047</td>\n",
              "      <td>0.002004</td>\n",
              "      <td>0.002012</td>\n",
              "      <td>0.878049</td>\n",
              "      <td>0.689394</td>\n",
              "      <td>0.708661</td>\n",
              "      <td>0.512500</td>\n",
              "      <td>0.506410</td>\n",
              "      <td>0.494186</td>\n",
              "      <td>0.666667</td>\n",
              "    </tr>\n",
              "    <tr>\n",
              "      <th>420</th>\n",
              "      <td>0.002164</td>\n",
              "      <td>0.002024</td>\n",
              "      <td>0.002031</td>\n",
              "      <td>0.878049</td>\n",
              "      <td>0.674242</td>\n",
              "      <td>0.692913</td>\n",
              "      <td>0.531250</td>\n",
              "      <td>0.532051</td>\n",
              "      <td>0.505814</td>\n",
              "      <td>0.666667</td>\n",
              "    </tr>\n",
              "    <tr>\n",
              "      <th>421</th>\n",
              "      <td>0.002125</td>\n",
              "      <td>0.002004</td>\n",
              "      <td>0.002031</td>\n",
              "      <td>0.878049</td>\n",
              "      <td>0.666667</td>\n",
              "      <td>0.685039</td>\n",
              "      <td>0.543750</td>\n",
              "      <td>0.544872</td>\n",
              "      <td>0.517442</td>\n",
              "      <td>0.666667</td>\n",
              "    </tr>\n",
              "    <tr>\n",
              "      <th>422</th>\n",
              "      <td>0.002222</td>\n",
              "      <td>0.001984</td>\n",
              "      <td>0.002031</td>\n",
              "      <td>0.865854</td>\n",
              "      <td>0.659091</td>\n",
              "      <td>0.669291</td>\n",
              "      <td>0.559375</td>\n",
              "      <td>0.564103</td>\n",
              "      <td>0.529070</td>\n",
              "      <td>0.666667</td>\n",
              "    </tr>\n",
              "  </tbody>\n",
              "</table>\n",
              "<p>423 rows × 10 columns</p>\n",
              "</div>\n",
              "      <button class=\"colab-df-convert\" onclick=\"convertToInteractive('df-8d93cb7c-a167-45e8-9350-307cb49c2cec')\"\n",
              "              title=\"Convert this dataframe to an interactive table.\"\n",
              "              style=\"display:none;\">\n",
              "        \n",
              "  <svg xmlns=\"http://www.w3.org/2000/svg\" height=\"24px\"viewBox=\"0 0 24 24\"\n",
              "       width=\"24px\">\n",
              "    <path d=\"M0 0h24v24H0V0z\" fill=\"none\"/>\n",
              "    <path d=\"M18.56 5.44l.94 2.06.94-2.06 2.06-.94-2.06-.94-.94-2.06-.94 2.06-2.06.94zm-11 1L8.5 8.5l.94-2.06 2.06-.94-2.06-.94L8.5 2.5l-.94 2.06-2.06.94zm10 10l.94 2.06.94-2.06 2.06-.94-2.06-.94-.94-2.06-.94 2.06-2.06.94z\"/><path d=\"M17.41 7.96l-1.37-1.37c-.4-.4-.92-.59-1.43-.59-.52 0-1.04.2-1.43.59L10.3 9.45l-7.72 7.72c-.78.78-.78 2.05 0 2.83L4 21.41c.39.39.9.59 1.41.59.51 0 1.02-.2 1.41-.59l7.78-7.78 2.81-2.81c.8-.78.8-2.07 0-2.86zM5.41 20L4 18.59l7.72-7.72 1.47 1.35L5.41 20z\"/>\n",
              "  </svg>\n",
              "      </button>\n",
              "      \n",
              "  <style>\n",
              "    .colab-df-container {\n",
              "      display:flex;\n",
              "      flex-wrap:wrap;\n",
              "      gap: 12px;\n",
              "    }\n",
              "\n",
              "    .colab-df-convert {\n",
              "      background-color: #E8F0FE;\n",
              "      border: none;\n",
              "      border-radius: 50%;\n",
              "      cursor: pointer;\n",
              "      display: none;\n",
              "      fill: #1967D2;\n",
              "      height: 32px;\n",
              "      padding: 0 0 0 0;\n",
              "      width: 32px;\n",
              "    }\n",
              "\n",
              "    .colab-df-convert:hover {\n",
              "      background-color: #E2EBFA;\n",
              "      box-shadow: 0px 1px 2px rgba(60, 64, 67, 0.3), 0px 1px 3px 1px rgba(60, 64, 67, 0.15);\n",
              "      fill: #174EA6;\n",
              "    }\n",
              "\n",
              "    [theme=dark] .colab-df-convert {\n",
              "      background-color: #3B4455;\n",
              "      fill: #D2E3FC;\n",
              "    }\n",
              "\n",
              "    [theme=dark] .colab-df-convert:hover {\n",
              "      background-color: #434B5C;\n",
              "      box-shadow: 0px 1px 3px 1px rgba(0, 0, 0, 0.15);\n",
              "      filter: drop-shadow(0px 1px 2px rgba(0, 0, 0, 0.3));\n",
              "      fill: #FFFFFF;\n",
              "    }\n",
              "  </style>\n",
              "\n",
              "      <script>\n",
              "        const buttonEl =\n",
              "          document.querySelector('#df-8d93cb7c-a167-45e8-9350-307cb49c2cec button.colab-df-convert');\n",
              "        buttonEl.style.display =\n",
              "          google.colab.kernel.accessAllowed ? 'block' : 'none';\n",
              "\n",
              "        async function convertToInteractive(key) {\n",
              "          const element = document.querySelector('#df-8d93cb7c-a167-45e8-9350-307cb49c2cec');\n",
              "          const dataTable =\n",
              "            await google.colab.kernel.invokeFunction('convertToInteractive',\n",
              "                                                     [key], {});\n",
              "          if (!dataTable) return;\n",
              "\n",
              "          const docLinkHtml = 'Like what you see? Visit the ' +\n",
              "            '<a target=\"_blank\" href=https://colab.research.google.com/notebooks/data_table.ipynb>data table notebook</a>'\n",
              "            + ' to learn more about interactive tables.';\n",
              "          element.innerHTML = '';\n",
              "          dataTable['output_type'] = 'display_data';\n",
              "          await google.colab.output.renderOutput(dataTable, element);\n",
              "          const docLink = document.createElement('div');\n",
              "          docLink.innerHTML = docLinkHtml;\n",
              "          element.appendChild(docLink);\n",
              "        }\n",
              "      </script>\n",
              "    </div>\n",
              "  </div>\n",
              "  "
            ]
          },
          "metadata": {},
          "execution_count": 9
        }
      ]
    },
    {
      "cell_type": "code",
      "source": [
        "data[\"PH\"].hist()"
      ],
      "metadata": {
        "colab": {
          "base_uri": "https://localhost:8080/",
          "height": 283
        },
        "id": "ro_ivVYPsu8t",
        "outputId": "25ce8e93-5b81-4dff-889c-e6471a04ee73"
      },
      "execution_count": 10,
      "outputs": [
        {
          "output_type": "execute_result",
          "data": {
            "text/plain": [
              "<matplotlib.axes._subplots.AxesSubplot at 0x7f07e216e090>"
            ]
          },
          "metadata": {},
          "execution_count": 10
        },
        {
          "output_type": "display_data",
          "data": {
            "text/plain": [
              "<Figure size 432x288 with 1 Axes>"
            ],
            "image/png": "[encoded data removed]"
          },
          "metadata": {
            "needs_background": "light"
          }
        }
      ]
    },
    {
      "cell_type": "code",
      "source": [
        "data.describe().T #Transpuesta"
      ],
      "metadata": {
        "colab": {
          "base_uri": "https://localhost:8080/",
          "height": 363
        },
        "id": "m5K2xGEvwtNp",
        "outputId": "26c013ed-5dd1-4901-c699-879c2431edf6"
      },
      "execution_count": 11,
      "outputs": [
        {
          "output_type": "execute_result",
          "data": {
            "text/plain": [
              "                    count      mean       std       min       25%       50%  \\\n",
              "MaxCE_WSinFiltrar   423.0  0.003272  0.018189  0.001072  0.001676  0.001930   \n",
              "MinCE_WSinFiltrar   423.0  0.001787  0.000290  0.001061  0.001572  0.001807   \n",
              "PromCE_WSinFiltrar  423.0  0.001943  0.001505  0.001055  0.001641  0.001855   \n",
              "MaxOD_WSinFiltrar   423.0  0.848411  0.022384  0.768293  0.841463  0.853659   \n",
              "PromOD_WSinFiltrar  423.0  0.594885  0.094677  0.378788  0.522727  0.590909   \n",
              "MinOD_WSinFiltrar   423.0  0.591296  0.104949  0.362205  0.503937  0.582677   \n",
              "PromT_WSinFiltrar   423.0  0.622776  0.198348  0.259375  0.454688  0.581250   \n",
              "MaxT_WSinFiltrar    423.0  0.627940  0.203111  0.250000  0.456731  0.583333   \n",
              "MinT_WSinFiltrar    423.0  0.590975  0.184498  0.252907  0.433140  0.552326   \n",
              "PH                  423.0  0.649221  0.017673  0.592593  0.638889  0.648148   \n",
              "\n",
              "                         75%       max  \n",
              "MaxCE_WSinFiltrar   0.002222  0.354776  \n",
              "MinCE_WSinFiltrar   0.002024  0.002613  \n",
              "PromCE_WSinFiltrar  0.002070  0.031250  \n",
              "MaxOD_WSinFiltrar   0.865854  0.890244  \n",
              "PromOD_WSinFiltrar  0.674242  0.803030  \n",
              "MinOD_WSinFiltrar   0.685039  0.826772  \n",
              "PromT_WSinFiltrar   0.826562  0.950000  \n",
              "MaxT_WSinFiltrar    0.834936  0.964744  \n",
              "MinT_WSinFiltrar    0.779070  0.895349  \n",
              "PH                  0.666667  0.685185  "
            ],
            "text/html": [
              "\n",
              "  <div id=\"df-a6bc04e9-8df0-40b3-a2be-a6177a6aafc1\">\n",
              "    <div class=\"colab-df-container\">\n",
              "      <div>\n",
              "<style scoped>\n",
              "    .dataframe tbody tr th:only-of-type {\n",
              "        vertical-align: middle;\n",
              "    }\n",
              "\n",
              "    .dataframe tbody tr th {\n",
              "        vertical-align: top;\n",
              "    }\n",
              "\n",
              "    .dataframe thead th {\n",
              "        text-align: right;\n",
              "    }\n",
              "</style>\n",
              "<table border=\"1\" class=\"dataframe\">\n",
              "  <thead>\n",
              "    <tr style=\"text-align: right;\">\n",
              "      <th></th>\n",
              "      <th>count</th>\n",
              "      <th>mean</th>\n",
              "      <th>std</th>\n",
              "      <th>min</th>\n",
              "      <th>25%</th>\n",
              "      <th>50%</th>\n",
              "      <th>75%</th>\n",
              "      <th>max</th>\n",
              "    </tr>\n",
              "  </thead>\n",
              "  <tbody>\n",
              "    <tr>\n",
              "      <th>MaxCE_WSinFiltrar</th>\n",
              "      <td>423.0</td>\n",
              "      <td>0.003272</td>\n",
              "      <td>0.018189</td>\n",
              "      <td>0.001072</td>\n",
              "      <td>0.001676</td>\n",
              "      <td>0.001930</td>\n",
              "      <td>0.002222</td>\n",
              "      <td>0.354776</td>\n",
              "    </tr>\n",
              "    <tr>\n",
              "      <th>MinCE_WSinFiltrar</th>\n",
              "      <td>423.0</td>\n",
              "      <td>0.001787</td>\n",
              "      <td>0.000290</td>\n",
              "      <td>0.001061</td>\n",
              "      <td>0.001572</td>\n",
              "      <td>0.001807</td>\n",
              "      <td>0.002024</td>\n",
              "      <td>0.002613</td>\n",
              "    </tr>\n",
              "    <tr>\n",
              "      <th>PromCE_WSinFiltrar</th>\n",
              "      <td>423.0</td>\n",
              "      <td>0.001943</td>\n",
              "      <td>0.001505</td>\n",
              "      <td>0.001055</td>\n",
              "      <td>0.001641</td>\n",
              "      <td>0.001855</td>\n",
              "      <td>0.002070</td>\n",
              "      <td>0.031250</td>\n",
              "    </tr>\n",
              "    <tr>\n",
              "      <th>MaxOD_WSinFiltrar</th>\n",
              "      <td>423.0</td>\n",
              "      <td>0.848411</td>\n",
              "      <td>0.022384</td>\n",
              "      <td>0.768293</td>\n",
              "      <td>0.841463</td>\n",
              "      <td>0.853659</td>\n",
              "      <td>0.865854</td>\n",
              "      <td>0.890244</td>\n",
              "    </tr>\n",
              "    <tr>\n",
              "      <th>PromOD_WSinFiltrar</th>\n",
              "      <td>423.0</td>\n",
              "      <td>0.594885</td>\n",
              "      <td>0.094677</td>\n",
              "      <td>0.378788</td>\n",
              "      <td>0.522727</td>\n",
              "      <td>0.590909</td>\n",
              "      <td>0.674242</td>\n",
              "      <td>0.803030</td>\n",
              "    </tr>\n",
              "    <tr>\n",
              "      <th>MinOD_WSinFiltrar</th>\n",
              "      <td>423.0</td>\n",
              "      <td>0.591296</td>\n",
              "      <td>0.104949</td>\n",
              "      <td>0.362205</td>\n",
              "      <td>0.503937</td>\n",
              "      <td>0.582677</td>\n",
              "      <td>0.685039</td>\n",
              "      <td>0.826772</td>\n",
              "    </tr>\n",
              "    <tr>\n",
              "      <th>PromT_WSinFiltrar</th>\n",
              "      <td>423.0</td>\n",
              "      <td>0.622776</td>\n",
              "      <td>0.198348</td>\n",
              "      <td>0.259375</td>\n",
              "      <td>0.454688</td>\n",
              "      <td>0.581250</td>\n",
              "      <td>0.826562</td>\n",
              "      <td>0.950000</td>\n",
              "    </tr>\n",
              "    <tr>\n",
              "      <th>MaxT_WSinFiltrar</th>\n",
              "      <td>423.0</td>\n",
              "      <td>0.627940</td>\n",
              "      <td>0.203111</td>\n",
              "      <td>0.250000</td>\n",
              "      <td>0.456731</td>\n",
              "      <td>0.583333</td>\n",
              "      <td>0.834936</td>\n",
              "      <td>0.964744</td>\n",
              "    </tr>\n",
              "    <tr>\n",
              "      <th>MinT_WSinFiltrar</th>\n",
              "      <td>423.0</td>\n",
              "      <td>0.590975</td>\n",
              "      <td>0.184498</td>\n",
              "      <td>0.252907</td>\n",
              "      <td>0.433140</td>\n",
              "      <td>0.552326</td>\n",
              "      <td>0.779070</td>\n",
              "      <td>0.895349</td>\n",
              "    </tr>\n",
              "    <tr>\n",
              "      <th>PH</th>\n",
              "      <td>423.0</td>\n",
              "      <td>0.649221</td>\n",
              "      <td>0.017673</td>\n",
              "      <td>0.592593</td>\n",
              "      <td>0.638889</td>\n",
              "      <td>0.648148</td>\n",
              "      <td>0.666667</td>\n",
              "      <td>0.685185</td>\n",
              "    </tr>\n",
              "  </tbody>\n",
              "</table>\n",
              "</div>\n",
              "      <button class=\"colab-df-convert\" onclick=\"convertToInteractive('df-a6bc04e9-8df0-40b3-a2be-a6177a6aafc1')\"\n",
              "              title=\"Convert this dataframe to an interactive table.\"\n",
              "              style=\"display:none;\">\n",
              "        \n",
              "  <svg xmlns=\"http://www.w3.org/2000/svg\" height=\"24px\"viewBox=\"0 0 24 24\"\n",
              "       width=\"24px\">\n",
              "    <path d=\"M0 0h24v24H0V0z\" fill=\"none\"/>\n",
              "    <path d=\"M18.56 5.44l.94 2.06.94-2.06 2.06-.94-2.06-.94-.94-2.06-.94 2.06-2.06.94zm-11 1L8.5 8.5l.94-2.06 2.06-.94-2.06-.94L8.5 2.5l-.94 2.06-2.06.94zm10 10l.94 2.06.94-2.06 2.06-.94-2.06-.94-.94-2.06-.94 2.06-2.06.94z\"/><path d=\"M17.41 7.96l-1.37-1.37c-.4-.4-.92-.59-1.43-.59-.52 0-1.04.2-1.43.59L10.3 9.45l-7.72 7.72c-.78.78-.78 2.05 0 2.83L4 21.41c.39.39.9.59 1.41.59.51 0 1.02-.2 1.41-.59l7.78-7.78 2.81-2.81c.8-.78.8-2.07 0-2.86zM5.41 20L4 18.59l7.72-7.72 1.47 1.35L5.41 20z\"/>\n",
              "  </svg>\n",
              "      </button>\n",
              "      \n",
              "  <style>\n",
              "    .colab-df-container {\n",
              "      display:flex;\n",
              "      flex-wrap:wrap;\n",
              "      gap: 12px;\n",
              "    }\n",
              "\n",
              "    .colab-df-convert {\n",
              "      background-color: #E8F0FE;\n",
              "      border: none;\n",
              "      border-radius: 50%;\n",
              "      cursor: pointer;\n",
              "      display: none;\n",
              "      fill: #1967D2;\n",
              "      height: 32px;\n",
              "      padding: 0 0 0 0;\n",
              "      width: 32px;\n",
              "    }\n",
              "\n",
              "    .colab-df-convert:hover {\n",
              "      background-color: #E2EBFA;\n",
              "      box-shadow: 0px 1px 2px rgba(60, 64, 67, 0.3), 0px 1px 3px 1px rgba(60, 64, 67, 0.15);\n",
              "      fill: #174EA6;\n",
              "    }\n",
              "\n",
              "    [theme=dark] .colab-df-convert {\n",
              "      background-color: #3B4455;\n",
              "      fill: #D2E3FC;\n",
              "    }\n",
              "\n",
              "    [theme=dark] .colab-df-convert:hover {\n",
              "      background-color: #434B5C;\n",
              "      box-shadow: 0px 1px 3px 1px rgba(0, 0, 0, 0.15);\n",
              "      filter: drop-shadow(0px 1px 2px rgba(0, 0, 0, 0.3));\n",
              "      fill: #FFFFFF;\n",
              "    }\n",
              "  </style>\n",
              "\n",
              "      <script>\n",
              "        const buttonEl =\n",
              "          document.querySelector('#df-a6bc04e9-8df0-40b3-a2be-a6177a6aafc1 button.colab-df-convert');\n",
              "        buttonEl.style.display =\n",
              "          google.colab.kernel.accessAllowed ? 'block' : 'none';\n",
              "\n",
              "        async function convertToInteractive(key) {\n",
              "          const element = document.querySelector('#df-a6bc04e9-8df0-40b3-a2be-a6177a6aafc1');\n",
              "          const dataTable =\n",
              "            await google.colab.kernel.invokeFunction('convertToInteractive',\n",
              "                                                     [key], {});\n",
              "          if (!dataTable) return;\n",
              "\n",
              "          const docLinkHtml = 'Like what you see? Visit the ' +\n",
              "            '<a target=\"_blank\" href=https://colab.research.google.com/notebooks/data_table.ipynb>data table notebook</a>'\n",
              "            + ' to learn more about interactive tables.';\n",
              "          element.innerHTML = '';\n",
              "          dataTable['output_type'] = 'display_data';\n",
              "          await google.colab.output.renderOutput(dataTable, element);\n",
              "          const docLink = document.createElement('div');\n",
              "          docLink.innerHTML = docLinkHtml;\n",
              "          element.appendChild(docLink);\n",
              "        }\n",
              "      </script>\n",
              "    </div>\n",
              "  </div>\n",
              "  "
            ]
          },
          "metadata": {},
          "execution_count": 11
        }
      ]
    },
    {
      "cell_type": "code",
      "source": [
        "plt.figure(figsize=(30,15))\n",
        "for i,j in enumerate(data.columns[:-1]):\n",
        "    plt.subplot(4,4,i+1)\n",
        "    plt.scatter(data[j],data[\"PH\"])\n",
        "    plt.xlabel(j)\n",
        "    plt.ylabel(\"PH\")\n",
        "plt.show()"
      ],
      "metadata": {
        "colab": {
          "base_uri": "https://localhost:8080/",
          "height": 502
        },
        "id": "rvAmnU6xMUuo",
        "outputId": "91384e6d-3ed9-4ef1-e489-cf81b03614c2"
      },
      "execution_count": 12,
      "outputs": [
        {
          "output_type": "display_data",
          "data": {
            "text/plain": [
              "<Figure size 2160x1080 with 9 Axes>"
            ],
            "image/png": "[encoded data removed]"
          },
          "metadata": {
            "needs_background": "light"
          }
        }
      ]
    },
    {
      "cell_type": "code",
      "source": [
        "#MACHINE LEARNNG\n",
        "# importing train_test_split from sklearn\n",
        "from sklearn.model_selection import train_test_split"
      ],
      "metadata": {
        "id": "qNSQ3m5GUJI_"
      },
      "execution_count": 13,
      "outputs": []
    },
    {
      "cell_type": "code",
      "source": [
        "features=data.drop(columns=[\"PH\"])\n",
        "target=data[\"PH\"]\n",
        "# splitting the data\n",
        "x_train, x_test, y_train, y_test = train_test_split(features, target, test_size = 0.00001, random_state = 42) #test_size EL PORCENTAJE PARA PRUEBA  random_state SEMILLA PARA GENERAR LOS NÚMEROS ALEATORIOS"
      ],
      "metadata": {
        "id": "uPg0zg7vU52u"
      },
      "execution_count": 14,
      "outputs": []
    },
    {
      "cell_type": "code",
      "source": [
        "# importing module\n",
        "from sklearn.linear_model import LinearRegression\n",
        "# creating an object of LinearRegression class\n",
        "LR = LinearRegression()\n",
        "# fitting the training data\n",
        "LR.fit(x_train,y_train)\n",
        "prediction_LR =  LR.predict(x_test)\n",
        "prediction_LR"
      ],
      "metadata": {
        "colab": {
          "base_uri": "https://localhost:8080/"
        },
        "id": "UYHJ8hJ7VMuV",
        "outputId": "977a0263-ecd6-4f5c-c0df-43873581280e"
      },
      "execution_count": 15,
      "outputs": [
        {
          "output_type": "execute_result",
          "data": {
            "text/plain": [
              "array([0.64571157])"
            ]
          },
          "metadata": {},
          "execution_count": 15
        }
      ]
    },
    {
      "cell_type": "code",
      "source": [
        "# get importance\n",
        "var=LR.feature_names_in_\n",
        "importance = LR.coef_\n",
        "# summarize feature importance\n",
        "for i,v in enumerate(importance):\n",
        "\tprint('Feature: %0d, Score: %.5f' % (i,v))\n",
        "# plot feature importance\n",
        "plt.barh(var, importance)\n",
        "plt.show()"
      ],
      "metadata": {
        "colab": {
          "base_uri": "https://localhost:8080/",
          "height": 429
        },
        "id": "nCKvn6InVQaU",
        "outputId": "a53a813c-7593-431c-e472-742279da4ce2"
      },
      "execution_count": 16,
      "outputs": [
        {
          "output_type": "stream",
          "name": "stdout",
          "text": [
            "Feature: 0, Score: 0.03374\n",
            "Feature: 1, Score: -1.58895\n",
            "Feature: 2, Score: 1.32247\n",
            "Feature: 3, Score: 0.69461\n",
            "Feature: 4, Score: 0.06651\n",
            "Feature: 5, Score: -0.03655\n",
            "Feature: 6, Score: 0.16223\n",
            "Feature: 7, Score: -0.04079\n",
            "Feature: 8, Score: -0.10689\n"
          ]
        },
        {
          "output_type": "display_data",
          "data": {
            "text/plain": [
              "<Figure size 432x288 with 1 Axes>"
            ],
            "image/png": "[encoded data removed]"
          },
          "metadata": {
            "needs_background": "light"
          }
        }
      ]
    },
    {
      "cell_type": "code",
      "source": [
        "LR.intercept_"
      ],
      "metadata": {
        "colab": {
          "base_uri": "https://localhost:8080/"
        },
        "id": "Fv-qgALWVtBp",
        "outputId": "7da1aaf0-0eec-467e-8e61-b2d52575b854"
      },
      "execution_count": 42,
      "outputs": [
        {
          "output_type": "execute_result",
          "data": {
            "text/plain": [
              "0.029858142930027642"
            ]
          },
          "metadata": {},
          "execution_count": 42
        }
      ]
    },
    {
      "cell_type": "code",
      "source": [
        "LR.coef_"
      ],
      "metadata": {
        "colab": {
          "base_uri": "https://localhost:8080/"
        },
        "id": "CRO70qqxZY1k",
        "outputId": "0c5fdf15-1755-4cd9-dd8e-1d805d163e11"
      },
      "execution_count": 18,
      "outputs": [
        {
          "output_type": "execute_result",
          "data": {
            "text/plain": [
              "array([ 0.03374347, -1.58894614,  1.32247395,  0.69460967,  0.06651332,\n",
              "       -0.03655185,  0.16222615, -0.0407932 , -0.10688892])"
            ]
          },
          "metadata": {},
          "execution_count": 18
        }
      ]
    },
    {
      "cell_type": "code",
      "source": [
        "LR.feature_names_in_"
      ],
      "metadata": {
        "colab": {
          "base_uri": "https://localhost:8080/"
        },
        "id": "noE7nQXVZcQk",
        "outputId": "dfb84d3c-c7d9-44ce-dc0c-6f41a7fdb38f"
      },
      "execution_count": 19,
      "outputs": [
        {
          "output_type": "execute_result",
          "data": {
            "text/plain": [
              "array(['MaxCE_WSinFiltrar', 'MinCE_WSinFiltrar', 'PromCE_WSinFiltrar',\n",
              "       'MaxOD_WSinFiltrar', 'PromOD_WSinFiltrar', 'MinOD_WSinFiltrar',\n",
              "       'PromT_WSinFiltrar', 'MaxT_WSinFiltrar', 'MinT_WSinFiltrar'],\n",
              "      dtype=object)"
            ]
          },
          "metadata": {},
          "execution_count": 19
        }
      ]
    },
    {
      "cell_type": "code",
      "source": [
        "predictions_LR=LR.predict(features)"
      ],
      "metadata": {
        "id": "uX67ydimZ5Tb"
      },
      "execution_count": 22,
      "outputs": []
    },
    {
      "cell_type": "code",
      "source": [
        "plt.figure(figsize=(8,6))\n",
        "plt.scatter(data[\"PH\"],predictions_LR, label=\"Machine Learning\",s=5,c=\"r\")\n",
        "u=np.linspace(data[\"PH\"].min(),data[\"PH\"].max(),5)\n",
        "plt.plot(u,u)\n",
        "plt.xlabel(\"Slowness in traffic (%)\")\n",
        "plt.ylabel(\"predictions\")\n",
        "plt.legend()\n",
        "plt.show()"
      ],
      "metadata": {
        "colab": {
          "base_uri": "https://localhost:8080/",
          "height": 388
        },
        "id": "26HRxg1xaXn7",
        "outputId": "b6ae27ed-df97-4664-b73a-13893cf25906"
      },
      "execution_count": 23,
      "outputs": [
        {
          "output_type": "display_data",
          "data": {
            "text/plain": [
              "<Figure size 576x432 with 1 Axes>"
            ],
            "image/png": "[encoded data removed]"
          },
          "metadata": {
            "needs_background": "light"
          }
        }
      ]
    },
    {
      "cell_type": "code",
      "source": [
        "LR2 = LinearRegression(fit_intercept=False)\n",
        "# fitting the training data\n",
        "LR2.fit(x_train,y_train)\n",
        "predictions_LR2=LR2.predict(features)"
      ],
      "metadata": {
        "id": "BbzDnVYbaal6"
      },
      "execution_count": 24,
      "outputs": []
    },
    {
      "cell_type": "code",
      "source": [
        "plt.figure(figsize=(8,6))\n",
        "plt.scatter(data[\"PH\"],predictions_LR, label=\"Machine Learning with intercept\")\n",
        "plt.scatter(data[\"PH\"],predictions_LR2, label=\"Machine Learning without intercept\")\n",
        "u=np.linspace(data[\"PH\"].min(),data[\"PH\"].max(),5)\n",
        "plt.plot(u,u)\n",
        "plt.xlabel(\"PH\")\n",
        "plt.ylabel(\"predictions\")\n",
        "plt.legend()\n",
        "plt.show()"
      ],
      "metadata": {
        "colab": {
          "base_uri": "https://localhost:8080/",
          "height": 388
        },
        "id": "MHW3RyysakEq",
        "outputId": "029444ec-8598-4bc0-b9a4-ff34d5845a55"
      },
      "execution_count": 25,
      "outputs": [
        {
          "output_type": "display_data",
          "data": {
            "text/plain": [
              "<Figure size 576x432 with 1 Axes>"
            ],
            "image/png": "[encoded data removed]"
          },
          "metadata": {
            "needs_background": "light"
          }
        }
      ]
    },
    {
      "cell_type": "code",
      "source": [
        "# importing r2_score module\n",
        "from sklearn.metrics import r2_score\n",
        "from sklearn.metrics import mean_squared_error\n",
        "\n",
        "# predicting the accuracy score\n",
        "score_LR=r2_score(target,predictions_LR)\n",
        "score_LR2=r2_score(target,predictions_LR2)\n",
        "RMS2_LR=np.sqrt(mean_squared_error(target,predictions_LR))\n",
        "RMS2_LR2=np.sqrt(mean_squared_error(target,predictions_LR2))\n",
        "\n",
        "for i,j in zip([score_LR,score_LR2],[\"score_LR\",\"score_LR2\"]):\n",
        "    print(j,\" is \",i)\n",
        "for i,j in zip([RMS2_LR,RMS2_LR2],[\"RMS2_LR\",\"RMS2_LR2\"]):\n",
        "    print(j,\" is \",i)  #LR es regresión Lineal, LR2 es la misma regresión lineal sin el intercepto"
      ],
      "metadata": {
        "colab": {
          "base_uri": "https://localhost:8080/"
        },
        "id": "HjTy3OSWanq6",
        "outputId": "396d7c2c-af55-46bc-fa8b-6cd9bf0cb85d"
      },
      "execution_count": 27,
      "outputs": [
        {
          "output_type": "stream",
          "name": "stdout",
          "text": [
            "score_LR  is  0.9360398465913051\n",
            "score_LR2  is  0.9346790478059404\n",
            "RMS2_LR  is  0.004464198481934979\n",
            "RMS2_LR2  is  0.004511438075060483\n"
          ]
        }
      ]
    },
    {
      "cell_type": "code",
      "source": [
        "#Random Forest\n",
        "# Fitting Random Forest Regression to the dataset\n",
        "# import the regressor\n",
        "from sklearn.ensemble import RandomForestRegressor\n",
        " \n",
        " # create regressor object\n",
        "regressor = RandomForestRegressor(n_estimators = 100, random_state=5678) #N_estimators 100 arboles distintos \n",
        " \n",
        "# fit the regressor with x and y data\n",
        "regressor.fit(features, target) \n",
        "predictions_RF=regressor.predict(features)"
      ],
      "metadata": {
        "id": "zRVYINkWavyA"
      },
      "execution_count": 28,
      "outputs": []
    },
    {
      "cell_type": "code",
      "source": [
        "score_RF=r2_score(target,predictions_RF)\n",
        "RMS2_RF=np.sqrt(mean_squared_error(target,predictions_RF))"
      ],
      "metadata": {
        "id": "985pNGwJfM6B"
      },
      "execution_count": 29,
      "outputs": []
    },
    {
      "cell_type": "code",
      "source": [
        "for i,j in zip([score_LR,score_LR2,score_RF],[\"score_LR\",\"score_LR2\",\"score_RF\"]):\n",
        "    print(j,\" is \",i)\n",
        "for i,j in zip([RMS2_LR,RMS2_LR2,RMS2_RF],[\"RMS2_LR\",\"RMS2_LR2\",\"RMS2_RF\"]):\n",
        "    print(j,\" is \",i)"
      ],
      "metadata": {
        "colab": {
          "base_uri": "https://localhost:8080/"
        },
        "id": "G_YN62LNfWkw",
        "outputId": "bc1ac3dd-f11e-4a56-d427-846a605a326f"
      },
      "execution_count": 30,
      "outputs": [
        {
          "output_type": "stream",
          "name": "stdout",
          "text": [
            "score_LR  is  0.9360398465913051\n",
            "score_LR2  is  0.9346790478059404\n",
            "score_RF  is  0.9908265914487115\n",
            "RMS2_LR  is  0.004464198481934979\n",
            "RMS2_LR2  is  0.004511438075060483\n",
            "RMS2_RF  is  0.0016906515812263507\n"
          ]
        }
      ]
    },
    {
      "cell_type": "code",
      "source": [
        "plt.figure(figsize=(8,6))\n",
        "plt.scatter(data[\"PH\"],predictions_LR, label=\"Machine Learning with intercept\")\n",
        "plt.scatter(data[\"PH\"],predictions_LR2, label=\"Machine Learning without intercept\")\n",
        "plt.scatter(data[\"PH\"],predictions_RF, label=\"Machine Learning Random Forest\")\n",
        "u=np.linspace(data[\"PH\"].min(),data[\"PH\"].max(),5)\n",
        "plt.plot(u,u)\n",
        "plt.xlabel(\"PH\")\n",
        "plt.ylabel(\"predictions\")\n",
        "plt.legend()\n",
        "plt.show()"
      ],
      "metadata": {
        "colab": {
          "base_uri": "https://localhost:8080/",
          "height": 388
        },
        "id": "qZXoy-mIfuKI",
        "outputId": "6bb51c2e-e577-4706-af95-7f87ba2e6dfb"
      },
      "execution_count": 32,
      "outputs": [
        {
          "output_type": "display_data",
          "data": {
            "text/plain": [
              "<Figure size 576x432 with 1 Axes>"
            ],
            "image/png": "[encoded data removed]"
          },
          "metadata": {
            "needs_background": "light"
          }
        }
      ]
    },
    {
      "cell_type": "code",
      "source": [
        "# get importance\n",
        "var_RF=regressor.feature_names_in_\n",
        "importance_RF = regressor.feature_importances_\n",
        "# summarize feature importance\n",
        "for i,v in zip(var_RF,importance_RF):\n",
        "\tprint('Feature: %s, Score: %.5f' % (i,v))\n",
        "# plot feature importance\n",
        "plt.barh(var_RF, importance_RF)\n",
        "plt.show()"
      ],
      "metadata": {
        "colab": {
          "base_uri": "https://localhost:8080/",
          "height": 429
        },
        "id": "UwvaOkuolwL0",
        "outputId": "76331bc3-50a7-4112-adef-b30b2b2c4746"
      },
      "execution_count": 33,
      "outputs": [
        {
          "output_type": "stream",
          "name": "stdout",
          "text": [
            "Feature: MaxCE_WSinFiltrar, Score: 0.02721\n",
            "Feature: MinCE_WSinFiltrar, Score: 0.00648\n",
            "Feature: PromCE_WSinFiltrar, Score: 0.01930\n",
            "Feature: MaxOD_WSinFiltrar, Score: 0.88266\n",
            "Feature: PromOD_WSinFiltrar, Score: 0.01946\n",
            "Feature: MinOD_WSinFiltrar, Score: 0.01022\n",
            "Feature: PromT_WSinFiltrar, Score: 0.00875\n",
            "Feature: MaxT_WSinFiltrar, Score: 0.01255\n",
            "Feature: MinT_WSinFiltrar, Score: 0.01338\n"
          ]
        },
        {
          "output_type": "display_data",
          "data": {
            "text/plain": [
              "<Figure size 432x288 with 1 Axes>"
            ],
            "image/png": "[encoded data removed]"
          },
          "metadata": {
            "needs_background": "light"
          }
        }
      ]
    }
  ]
}